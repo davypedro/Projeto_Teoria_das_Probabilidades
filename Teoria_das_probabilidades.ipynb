{
 "cells": [
  {
   "cell_type": "markdown",
   "id": "2b6a85b6",
   "metadata": {},
   "source": [
    "# Projeto da Disciplina de Teoria das Probabilidades\n",
    "### Aluno: Davy Pedro\n",
    "### Professor: Roberto Quirino"
   ]
  },
  {
   "cell_type": "markdown",
   "id": "b9c76a4a",
   "metadata": {},
   "source": [
    "## 1 - Importação das bibliotecas"
   ]
  },
  {
   "cell_type": "code",
   "execution_count": 1,
   "id": "401e2968",
   "metadata": {},
   "outputs": [],
   "source": [
    "import pandas as pd\n",
    "import numpy as np\n",
    "import statistics as st\n",
    "import seaborn as sns\n",
    "import matplotlib.pyplot as plt"
   ]
  },
  {
   "cell_type": "markdown",
   "id": "6d866765",
   "metadata": {},
   "source": [
    "## 2 - Importando o dado"
   ]
  },
  {
   "cell_type": "code",
   "execution_count": 2,
   "id": "2cf36e2e",
   "metadata": {},
   "outputs": [
    {
     "data": {
      "text/html": [
       "<div>\n",
       "<style scoped>\n",
       "    .dataframe tbody tr th:only-of-type {\n",
       "        vertical-align: middle;\n",
       "    }\n",
       "\n",
       "    .dataframe tbody tr th {\n",
       "        vertical-align: top;\n",
       "    }\n",
       "\n",
       "    .dataframe thead th {\n",
       "        text-align: right;\n",
       "    }\n",
       "</style>\n",
       "<table border=\"1\" class=\"dataframe\">\n",
       "  <thead>\n",
       "    <tr style=\"text-align: right;\">\n",
       "      <th></th>\n",
       "      <th>Variavel1</th>\n",
       "      <th>Variavel2</th>\n",
       "      <th>Variavel3</th>\n",
       "      <th>variavel4</th>\n",
       "      <th>Variavel5</th>\n",
       "    </tr>\n",
       "  </thead>\n",
       "  <tbody>\n",
       "    <tr>\n",
       "      <th>0</th>\n",
       "      <td>4.543088</td>\n",
       "      <td>1</td>\n",
       "      <td>52.529287</td>\n",
       "      <td>57.089488</td>\n",
       "      <td>25.111979</td>\n",
       "    </tr>\n",
       "    <tr>\n",
       "      <th>1</th>\n",
       "      <td>0.019913</td>\n",
       "      <td>2</td>\n",
       "      <td>49.138281</td>\n",
       "      <td>43.160850</td>\n",
       "      <td>27.392688</td>\n",
       "    </tr>\n",
       "    <tr>\n",
       "      <th>2</th>\n",
       "      <td>-2.348737</td>\n",
       "      <td>0</td>\n",
       "      <td>49.472011</td>\n",
       "      <td>48.341900</td>\n",
       "      <td>13.382138</td>\n",
       "    </tr>\n",
       "    <tr>\n",
       "      <th>3</th>\n",
       "      <td>0.105843</td>\n",
       "      <td>0</td>\n",
       "      <td>46.526167</td>\n",
       "      <td>48.526073</td>\n",
       "      <td>22.490899</td>\n",
       "    </tr>\n",
       "    <tr>\n",
       "      <th>4</th>\n",
       "      <td>-3.909062</td>\n",
       "      <td>0</td>\n",
       "      <td>53.195310</td>\n",
       "      <td>53.457285</td>\n",
       "      <td>10.351838</td>\n",
       "    </tr>\n",
       "  </tbody>\n",
       "</table>\n",
       "</div>"
      ],
      "text/plain": [
       "   Variavel1  Variavel2  Variavel3  variavel4  Variavel5\n",
       "0   4.543088          1  52.529287  57.089488  25.111979\n",
       "1   0.019913          2  49.138281  43.160850  27.392688\n",
       "2  -2.348737          0  49.472011  48.341900  13.382138\n",
       "3   0.105843          0  46.526167  48.526073  22.490899\n",
       "4  -3.909062          0  53.195310  53.457285  10.351838"
      ]
     },
     "execution_count": 2,
     "metadata": {},
     "output_type": "execute_result"
    }
   ],
   "source": [
    "arquivo = 'TrabalhoTP.xlsx'\n",
    "\n",
    "df = pd.read_excel(arquivo)\n",
    "\n",
    "amplitude_classe = 4\n",
    "\n",
    "df.head()"
   ]
  },
  {
   "cell_type": "markdown",
   "id": "b6c13709",
   "metadata": {},
   "source": [
    "### 2.1 - Verificando valores únicos no dado"
   ]
  },
  {
   "cell_type": "code",
   "execution_count": 3,
   "id": "ce5352ee",
   "metadata": {},
   "outputs": [
    {
     "name": "stdout",
     "output_type": "stream",
     "text": [
      "500\n",
      "5\n",
      "495\n",
      "496\n",
      "500\n"
     ]
    }
   ],
   "source": [
    "print(len(df[\"Variavel1\"].unique()))\n",
    "print(len(df[\"Variavel2\"].unique()))\n",
    "print(len(df[\"Variavel3\"].unique()))\n",
    "print(len(df[\"variavel4\"].unique()))\n",
    "print(len(df[\"Variavel5\"].unique()))"
   ]
  },
  {
   "cell_type": "code",
   "execution_count": 4,
   "id": "be4c7ad4",
   "metadata": {},
   "outputs": [
    {
     "name": "stdout",
     "output_type": "stream",
     "text": [
      "A variável 2 tem um comportamento discreto. Desta forma, portanto, iremos analisá-la com mais rigor.\n"
     ]
    },
    {
     "data": {
      "text/plain": [
       "array([1, 2, 0, 4, 3], dtype=int64)"
      ]
     },
     "execution_count": 4,
     "metadata": {},
     "output_type": "execute_result"
    }
   ],
   "source": [
    "print('A variável 2 tem um comportamento discreto. Desta forma, portanto, iremos analisá-la com mais rigor.')\n",
    "\n",
    "\n",
    "df[\"Variavel2\"].unique()"
   ]
  },
  {
   "cell_type": "markdown",
   "id": "b3b086d0",
   "metadata": {},
   "source": [
    "## 3 - Distribuição de Frequências"
   ]
  },
  {
   "cell_type": "code",
   "execution_count": 5,
   "id": "b9dfa621",
   "metadata": {
    "scrolled": true
   },
   "outputs": [
    {
     "name": "stdout",
     "output_type": "stream",
     "text": [
      "          Classes  Frequência  Frequência Relativa  Frequência Absoluta\n",
      "0  [-9.66, -6.22]           5                0.010                    5\n",
      "1  [-6.22, -2.77]          26                0.052                   31\n",
      "2   [-2.77, 0.67]         202                0.404                  233\n",
      "3    [0.67, 4.11]         173                0.346                  406\n",
      "4    [4.11, 7.55]          74                0.148                  480\n",
      "5    [7.55, 11.0]          16                0.032                  496\n",
      "6   [11.0, 14.44]           4                0.008                  500\n",
      "\n",
      "  Classes  Frequência  Frequência Relativa  Frequência Absoluta\n",
      "0       0          38                0.076                   38\n",
      "1       1         144                0.288                  182\n",
      "2       2          90                0.180                  272\n",
      "3       3         107                0.214                  379\n",
      "4       4         121                0.242                  500\n",
      "\n",
      "          Classes  Frequência  Frequência Relativa  Frequência Absoluta\n",
      "0  [39.68, 42.96]          20             0.040080                   20\n",
      "1  [42.96, 46.24]          63             0.126253                   83\n",
      "2  [46.24, 49.52]         132             0.264529                  215\n",
      "3  [49.52, 52.81]         153             0.306613                  368\n",
      "4  [52.81, 56.09]          92             0.184369                  460\n",
      "5  [56.09, 59.37]          31             0.062124                  491\n",
      "6  [59.37, 62.65]           8             0.016032                  499\n",
      "\n",
      "          Classes  Frequência  Frequência Relativa  Frequência Absoluta\n",
      "0  [-10.56, 6.67]           8                0.016                    8\n",
      "1   [6.67, 23.91]          52                0.104                   60\n",
      "2  [23.91, 41.15]         119                0.238                  179\n",
      "3  [41.15, 58.39]         156                0.312                  335\n",
      "4  [58.39, 75.62]         114                0.228                  449\n",
      "5  [75.62, 92.86]          48                0.096                  497\n",
      "6  [92.86, 110.1]           3                0.006                  500\n",
      "\n",
      "          Classes  Frequência  Frequência Relativa  Frequência Absoluta\n",
      "0  [10.46, 16.22]          53             0.106212                   53\n",
      "1  [16.22, 21.98]         150             0.300601                  203\n",
      "2  [21.98, 27.74]         157             0.314629                  360\n",
      "3   [27.74, 33.5]          82             0.164329                  442\n",
      "4   [33.5, 39.26]          40             0.080160                  482\n",
      "5  [39.26, 45.02]          13             0.026052                  495\n",
      "6  [45.02, 50.78]           4             0.008016                  499\n",
      "\n"
     ]
    }
   ],
   "source": [
    "tabela_de_frequencia = {}\n",
    "frequencia = {}\n",
    "classes = {}\n",
    "numero_de_classes = 7\n",
    "\n",
    "for column in df.columns:\n",
    "    \n",
    "    if column == \"Variavel2\":\n",
    "\n",
    "        limite_max = df[column].max() + 1   \n",
    "        limite_min = df[column].min()  \n",
    "\n",
    "        amplitude_de_classe = 1\n",
    "        classe = []\n",
    "\n",
    "        for i in range(limite_max):\n",
    "            classe.append(limite_min)\n",
    "            limite_min += amplitude_de_classe\n",
    "\n",
    "        classes[column] = classe\n",
    "        \n",
    "        n_elementos_por_classe = []\n",
    "        n = 0\n",
    "        \n",
    "        for k in range(limite_max):\n",
    "\n",
    "            for registro in df[column]:\n",
    "                if classe[k] == registro:\n",
    "                    n += 1\n",
    "\n",
    "            n_elementos_por_classe.append(n)\n",
    "            n = 0\n",
    "\n",
    "        for i in range(len(classe)):\n",
    "            frequencia[str(classe[i])] = n_elementos_por_classe[i]\n",
    "        tabela_de_frequencia[column] = frequencia\n",
    "        frequencia = {}\n",
    "        \n",
    "        continue\n",
    "        \n",
    "    limite_max = df[column].max() + (df[column].max() * 0.01)\n",
    "    limite_min = df[column].min() + (df[column].min() * 0.01)\n",
    "    \n",
    "    amplitude_de_classe = (limite_max - limite_min) / numero_de_classes\n",
    "    classe = []\n",
    "    \n",
    "    for i in range(numero_de_classes):\n",
    "        classe.append([round(limite_min, 2), round(limite_min + amplitude_de_classe, 2)])\n",
    "        limite_min += amplitude_de_classe\n",
    "            \n",
    "    classes[column] = classe\n",
    "    \n",
    "    n_elementos_por_classe = []\n",
    "    n = 0\n",
    "    for k in range(numero_de_classes):\n",
    "        \n",
    "        for registro in df[column]:\n",
    "            if classe[k][0] <= registro < classe[k][1]:\n",
    "                n += 1\n",
    "\n",
    "        n_elementos_por_classe.append(n)\n",
    "        n = 0\n",
    "        \n",
    "    for i in range(len(classe)):\n",
    "        frequencia[str(classe[i])] = n_elementos_por_classe[i]\n",
    "    tabela_de_frequencia[column] = frequencia\n",
    "    frequencia = {}\n",
    "    \n",
    "\n",
    "lista_de_tabelas_frequencia = []\n",
    "for coluna, frequencia in tabela_de_frequencia.items():\n",
    "    tabela = pd.DataFrame({'Classes': frequencia.keys(),\n",
    "                       'Frequência': frequencia.values()})\n",
    "    \n",
    "    tabela['Frequência Relativa'] =\\\n",
    "    tabela['Frequência']/tabela['Frequência'].sum()\n",
    "    \n",
    "    tabela['Frequência Absoluta'] =\\\n",
    "    [tabela['Frequência'][:k+1].sum() for k in range(len(tabela[\"Frequência\"]))]\n",
    "    \n",
    "    lista_de_tabelas_frequencia.append(tabela)\n",
    "    \n",
    "for tabela in lista_de_tabelas_frequencia:\n",
    "    print(tabela)\n",
    "    print()\n",
    "\n",
    "    "
   ]
  },
  {
   "cell_type": "markdown",
   "id": "55024dc8",
   "metadata": {},
   "source": [
    "## 4 - Vizualização de cada variável"
   ]
  },
  {
   "cell_type": "markdown",
   "id": "e4d55128",
   "metadata": {},
   "source": [
    "### 4.1 - Vizualizacao Variavel 1"
   ]
  },
  {
   "cell_type": "code",
   "execution_count": 6,
   "id": "234870b1",
   "metadata": {},
   "outputs": [
    {
     "data": {
      "image/png": "[encoded data removed]",
      "text/plain": [
       "<Figure size 864x576 with 1 Axes>"
      ]
     },
     "metadata": {
      "needs_background": "light"
     },
     "output_type": "display_data"
    }
   ],
   "source": [
    "fig, ax = plt.subplots(figsize=(12,8))\n",
    "ax.hist(df['Variavel1'], bins=7, color='lightblue', edgecolor='black')\n",
    "plt.xlabel(\"Valor\", fontsize=16)\n",
    "plt.ylabel(\"Frequências\", fontsize=16)\n",
    "#plt.title(\"Histograma Variável 1\", fontsize=20)\n",
    "plt.savefig(\"v1.png\")\n",
    "plt.show()"
   ]
  },
  {
   "cell_type": "markdown",
   "id": "8e9acf58",
   "metadata": {},
   "source": [
    "### 4.2 - Vizualizacao variável 2"
   ]
  },
  {
   "cell_type": "code",
   "execution_count": 7,
   "id": "88fd73e0",
   "metadata": {},
   "outputs": [
    {
     "data": {
      "image/png": "[encoded data removed]",
      "text/plain": [
       "<Figure size 864x576 with 1 Axes>"
      ]
     },
     "metadata": {
      "needs_background": "light"
     },
     "output_type": "display_data"
    }
   ],
   "source": [
    "import matplotlib.pyplot as plt\n",
    "\n",
    "label = [0, 1, 2, 3, 4]\n",
    "data = [x for x in lista_de_tabelas_frequencia[1][\"Frequência\"]]\n",
    "\n",
    "fig, ax = plt.subplots(figsize=(12,8))\n",
    "plt.bar(label,data,color='lightblue', edgecolor='black')\n",
    "plt.xlabel(\"Valor\", fontsize=16)\n",
    "plt.ylabel(\"Frequências\", fontsize=16)\n",
    "plt.savefig(\"v2.png\")\n",
    "\n",
    "plt.show()"
   ]
  },
  {
   "cell_type": "markdown",
   "id": "875ec8ff",
   "metadata": {},
   "source": [
    "### 4.3 - Vizualizacao variável 3"
   ]
  },
  {
   "cell_type": "code",
   "execution_count": 8,
   "id": "a4fc37b8",
   "metadata": {},
   "outputs": [
    {
     "data": {
      "image/png": "[encoded data removed]",
      "text/plain": [
       "<Figure size 864x576 with 1 Axes>"
      ]
     },
     "metadata": {
      "needs_background": "light"
     },
     "output_type": "display_data"
    }
   ],
   "source": [
    "fig, ax = plt.subplots(figsize=(12,8))\n",
    "ax.hist(df['Variavel3'], bins=7, color='lightblue', edgecolor='black')\n",
    "plt.xlabel(\"Valor\", fontsize=16)\n",
    "plt.ylabel(\"Frequências\", fontsize=16)\n",
    "#plt.title(\"Histograma Variável 3\", fontsize=20)\n",
    "plt.savefig(\"v3.png\")\n",
    "\n",
    "plt.show()"
   ]
  },
  {
   "cell_type": "markdown",
   "id": "9ab555d6",
   "metadata": {},
   "source": [
    "### 4.4 - Vizualizacao variável 4"
   ]
  },
  {
   "cell_type": "code",
   "execution_count": 9,
   "id": "3683893a",
   "metadata": {},
   "outputs": [
    {
     "data": {
      "image/png": "[encoded data removed]",
      "text/plain": [
       "<Figure size 864x576 with 1 Axes>"
      ]
     },
     "metadata": {
      "needs_background": "light"
     },
     "output_type": "display_data"
    }
   ],
   "source": [
    "fig, ax = plt.subplots(figsize=(12,8))\n",
    "ax.hist(df['variavel4'], bins=7, color='lightblue', edgecolor='black')\n",
    "plt.xlabel(\"Valor\", fontsize=16)\n",
    "plt.ylabel(\"Frequências\", fontsize=16)\n",
    "#plt.title(\"Histograma Variável 4\", fontsize=20)\n",
    "plt.savefig(\"v4.png\")\n",
    "plt.show()"
   ]
  },
  {
   "cell_type": "markdown",
   "id": "a4c9f6a1",
   "metadata": {},
   "source": [
    "### 4.5 - Vizualizacao variável 5"
   ]
  },
  {
   "cell_type": "code",
   "execution_count": 10,
   "id": "f62f5cd5",
   "metadata": {},
   "outputs": [
    {
     "data": {
      "image/png": "[encoded data removed]",
      "text/plain": [
       "<Figure size 864x576 with 1 Axes>"
      ]
     },
     "metadata": {
      "needs_background": "light"
     },
     "output_type": "display_data"
    }
   ],
   "source": [
    "fig, ax = plt.subplots(figsize=(12,8))\n",
    "ax.hist(df['Variavel5'], bins=7, color='lightblue', edgecolor='black')\n",
    "plt.xlabel(\"Valor\", fontsize=16)\n",
    "plt.ylabel(\"Frequências\", fontsize=16)\n",
    "#plt.title(\"Histograma Variável 5\", fontsize=20)\n",
    "plt.savefig(\"v5.png\")\n",
    "plt.show()"
   ]
  },
  {
   "cell_type": "markdown",
   "id": "8a4e4d6e",
   "metadata": {},
   "source": [
    "## 4 - Média, Mediana, Moda, Variância e Desvio Padrão"
   ]
  },
  {
   "cell_type": "code",
   "execution_count": 11,
   "id": "600c6dda",
   "metadata": {},
   "outputs": [
    {
     "name": "stdout",
     "output_type": "stream",
     "text": [
      "               media    mediana       moda   variancia  desvio padrao\n",
      "Variavel1   1.547608   0.805357   4.543088    9.167826       3.027842\n",
      "Variavel2   2.258000   2.000000   1.000000    1.710858       1.307998\n",
      "Variavel3  50.168649  50.117825  52.714787   17.207513       4.148194\n",
      "variavel4  48.952794  48.864917  15.775442  426.135379      20.643047\n",
      "Variavel5  24.443726  23.647684  25.111979   50.535693       7.108846\n"
     ]
    }
   ],
   "source": [
    "medidasCentralidade = {\"media\":{}, \"mediana\":{}, \"moda\":{}, \"variancia\": {},\"desvio padrao\": {}}\n",
    "\n",
    "for column in df.columns:\n",
    "    medidasCentralidade[\"media\"][column] = df[column].mean()\n",
    "    medidasCentralidade[\"mediana\"][column] = df[column].median()\n",
    "    medidasCentralidade[\"moda\"][column] = st.mode(df[column])\n",
    "    medidasCentralidade[\"variancia\"][column] = df[column].var()\n",
    "    medidasCentralidade[\"desvio padrao\"][column] = df[column].std()\n",
    "    medidasVariaveis = pd.DataFrame(\n",
    "    medidasCentralidade\n",
    ")\n",
    "\n",
    "print(medidasVariaveis)"
   ]
  },
  {
   "cell_type": "markdown",
   "id": "7c44fed0",
   "metadata": {},
   "source": [
    "## 5 - (1) Variância da População e (2) Desvio Padrão da População"
   ]
  },
  {
   "cell_type": "code",
   "execution_count": 12,
   "id": "9b2e7769",
   "metadata": {},
   "outputs": [
    {
     "name": "stdout",
     "output_type": "stream",
     "text": [
      "['Variavel1', -0.9903030220184977, 0.7361619855968878]\n",
      "['Variavel2', 0.9627386873056955, 0.5923368394074788]\n",
      "['Variavel3', -0.6144091157406222, 0.03679293025963343]\n",
      "['variavel4', 1.6088022244530955, 0.012783773243854428]\n",
      "['Variavel5', -0.09409724328781288, 0.3362736519218462]\n"
     ]
    }
   ],
   "source": [
    "from statistics import mode, pvariance, pstdev\n",
    "\n",
    "df_v1 = df[\"Variavel1\"]\n",
    "df_v2 = df[\"Variavel2\"]\n",
    "df_v3 = df[\"Variavel3\"]\n",
    "df_v4 = df[\"variavel4\"]\n",
    "df_v5 = df[\"Variavel5\"]\n",
    "\n",
    "colunas = ['Variável', '1º Coeficiente', '2º Coeficiente']\n",
    "v = []\n",
    "\n",
    "\n",
    "for column in df.columns:\n",
    "    \n",
    "    As1 = (df[column].mean() - mode(df[column])) / pstdev(df[column])\n",
    "    \n",
    "    As2 = (3 * (df[column].mean() - df[column].median()))/pstdev(df[column])\n",
    "    \n",
    "    aux = [column, As1, As2]\n",
    "    v.append(aux)\n",
    "\n",
    "for i in v:\n",
    "    print(i)"
   ]
  },
  {
   "cell_type": "markdown",
   "id": "26d250c7",
   "metadata": {},
   "source": [
    "## 6 - Boxplot"
   ]
  },
  {
   "cell_type": "code",
   "execution_count": 13,
   "id": "ed245af8",
   "metadata": {},
   "outputs": [
    {
     "data": {
      "image/png": "[encoded data removed]",
      "text/plain": [
       "<Figure size 1080x1224 with 1 Axes>"
      ]
     },
     "metadata": {
      "needs_background": "light"
     },
     "output_type": "display_data"
    }
   ],
   "source": [
    "a = 'lightblue'\n",
    "b = 'blue'\n",
    "c = 'red'\n",
    "d = 'grey'\n",
    "e = 'black'\n",
    "plt.figure(figsize=(15, 17))\n",
    "plt.boxplot(df, vert = True, patch_artist = True, labels=df.columns, \n",
    "           boxprops=dict(facecolor=a, color=e),\n",
    "            capprops=dict(color=e),\n",
    "            whiskerprops=dict(color=e),\n",
    "            flierprops=dict(color=d, markeredgecolor=d),\n",
    "            medianprops=dict(color='green'),)\n",
    "plt.ylabel('Valores do registro', fontsize = 16)\n",
    "plt.xlabel('Variáveis', fontsize = 16)\n",
    "plt.savefig(\"bp.png\")\n",
    "plt.show()"
   ]
  },
  {
   "cell_type": "markdown",
   "id": "57e490c6",
   "metadata": {},
   "source": [
    "## 7 - Coef. Pearson"
   ]
  },
  {
   "cell_type": "code",
   "execution_count": 14,
   "id": "c50efac3",
   "metadata": {},
   "outputs": [],
   "source": [
    "coefAssPerson = {\"Pearson 1\": {}, \"Pearson 2\": {}, \"Simétria\": {}}\n",
    "for column in df.columns:\n",
    "    As1 = (df[column].mean() - st.mode(df[column])) / st.stdev(df[column])\n",
    "    As2 = (3 * (df[column].mean() - df[column].median())) / st.stdev(df[column])\n",
    "    coefAssPerson[\"Pearson 1\"][column] = As1\n",
    "    coefAssPerson[\"Pearson 2\"][column] = As2\n",
    "    \n",
    "    if As1 == As2 == 0:\n",
    "        coefAssPerson[\"Simétria\"][column] = \"Simétrica\"\n",
    "    if  As2 > 0:\n",
    "        coefAssPerson[\"Simétria\"][column] = \"Positiva\"\n",
    "    if  As2 < 0:\n",
    "        coefAssPerson[\"Simétria\"][column] = \"Negativa\"\n",
    "    "
   ]
  },
  {
   "cell_type": "code",
   "execution_count": 15,
   "id": "38338c6f",
   "metadata": {},
   "outputs": [
    {
     "name": "stdout",
     "output_type": "stream",
     "text": [
      "           Pearson 1  Pearson 2  Simétria\n",
      "Variavel1  -0.989312   0.735425  Positiva\n",
      "Variavel2   0.961775   0.591744  Positiva\n",
      "Variavel3  -0.613794   0.036756  Positiva\n",
      "variavel4   1.607193   0.012771  Positiva\n",
      "Variavel5  -0.094003   0.335937  Positiva\n"
     ]
    }
   ],
   "source": [
    "pearson_df = pd.DataFrame(coefAssPerson)\n",
    "print(pearson_df)"
   ]
  },
  {
   "cell_type": "code",
   "execution_count": 17,
   "id": "22b1feee",
   "metadata": {},
   "outputs": [
    {
     "data": {
      "text/plain": [
       "0.22495150237268874"
      ]
     },
     "execution_count": 17,
     "metadata": {},
     "output_type": "execute_result"
    }
   ],
   "source": [
    "k1 = (np.quantile(df[\"Variavel1\"], .75) - np.quantile(df[\"Variavel1\"], .25))\\\n",
    "/ (2 * (np.percentile(df[\"Variavel1\"], 90) - np.percentile(df[\"Variavel1\"], 10)))\n",
    "k1"
   ]
  },
  {
   "cell_type": "code",
   "execution_count": 18,
   "id": "d0af9b44",
   "metadata": {},
   "outputs": [
    {
     "data": {
      "text/plain": [
       "5.459179692775046"
      ]
     },
     "execution_count": 18,
     "metadata": {},
     "output_type": "execute_result"
    }
   ],
   "source": [
    "np.percentile(df[\"Variavel1\"], 90)"
   ]
  },
  {
   "cell_type": "markdown",
   "id": "ea6e2955",
   "metadata": {},
   "source": [
    "## 8 - Coef. Curtosis"
   ]
  },
  {
   "cell_type": "code",
   "execution_count": 19,
   "id": "b0547f63",
   "metadata": {},
   "outputs": [
    {
     "name": "stdout",
     "output_type": "stream",
     "text": [
      "            Curtose Classificação\n",
      "Variavel1  0.224952  Leptocúrtica\n",
      "Variavel2  0.333333  Platicúrtica\n",
      "Variavel3  0.259121  Leptocúrtica\n",
      "variavel4  0.262457  Leptocúrtica\n",
      "Variavel5  0.235109  Leptocúrtica\n"
     ]
    }
   ],
   "source": [
    "coefCurtosis = {\"Curtose\": {}, \"Classificação\": {}}\n",
    "for column in df.columns:\n",
    "    \n",
    "    ku = (np.quantile(df[column], .75) - np.quantile(df[column], .25))\\\n",
    "    / (2 * (np.percentile(df[column], 90) - np.percentile(df[column], 10)))\n",
    "    coefCurtosis[\"Curtose\"][column] = ku\n",
    "\n",
    "    \n",
    "    if ku == 0:\n",
    "        coefCurtosis[\"Classificação\"][column] = \"Mesocúrtica\"\n",
    "    if ku > 0.263:\n",
    "        coefCurtosis[\"Classificação\"][column] = \"Platicúrtica\"\n",
    "    if ku < 0.263:\n",
    "        coefCurtosis[\"Classificação\"][column] = \"Leptocúrtica\"\n",
    "\n",
    "curtosis_df = pd.DataFrame(coefCurtosis)\n",
    "print(curtosis_df)"
   ]
  }
 ],
 "metadata": {
  "kernelspec": {
   "display_name": "Python 3",
   "language": "python",
   "name": "python3"
  },
  "language_info": {
   "codemirror_mode": {
    "name": "ipython",
    "version": 3
   },
   "file_extension": ".py",
   "mimetype": "text/x-python",
   "name": "python",
   "nbconvert_exporter": "python",
   "pygments_lexer": "ipython3",
   "version": "3.8.8"
  }
 },
 "nbformat": 4,
 "nbformat_minor": 5
}
